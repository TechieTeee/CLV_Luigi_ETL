{
  "nbformat": 4,
  "nbformat_minor": 0,
  "metadata": {
    "colab": {
      "provenance": []
    },
    "kernelspec": {
      "name": "python3",
      "display_name": "Python 3"
    },
    "language_info": {
      "name": "python"
    }
  },
  "cells": [
    {
      "cell_type": "markdown",
      "source": [
        "# **Import and Install Neccessary Libraries**"
      ],
      "metadata": {
        "id": "66I-pxPfgBeY"
      }
    },
    {
      "cell_type": "code",
      "source": [
        "!pip install psycopg2\n",
        "!pip install airflow"
      ],
      "metadata": {
        "id": "tAXI67lfgM_P"
      },
      "execution_count": null,
      "outputs": []
    },
    {
      "cell_type": "code",
      "source": [
        "import luigi\n",
        "import pandas as pd\n",
        "import psycopg2"
      ],
      "metadata": {
        "id": "h60joAKJggt0"
      },
      "execution_count": null,
      "outputs": []
    },
    {
      "cell_type": "markdown",
      "source": [
        "# **Luigi ETL**"
      ],
      "metadata": {
        "id": "UJixWJS8ghzB"
      }
    },
    {
      "cell_type": "code",
      "source": [
        "\n",
        "class CombineFiles(luigi.Task):\n",
        "    def requires(self):\n",
        "        return None\n",
        "\n",
        "    def output(self):\n",
        "        return luigi.LocalTarget('Customer_LTV_Data_Composite.csv')\n",
        "\n",
        "    def run(self):\n",
        "        df1 = pd.read_csv('Customer_LTV_Data_1.csv')\n",
        "        df2 = pd.read_csv('Customer_LTV_Data_2.csv')\n",
        "        df = pd.concat([df1, df2])\n",
        "        df.to_csv('Customer_LTV_Data_Composite.csv', index=False)\n",
        "\n",
        "class ExportToPostgres(luigi.Task):\n",
        "    host = luigi.Parameter()\n",
        "    database = luigi.Parameter()\n",
        "    user = luigi.Parameter()\n",
        "    password = luigi.Parameter()\n",
        "\n",
        "    def requires(self):\n",
        "        return CombineFiles()\n",
        "\n",
        "    def run(self):\n",
        "        connection = psycopg2.connect(\n",
        "            host=self.host,\n",
        "            database=self.database,\n",
        "            user=self.user,\n",
        "            password=self.password\n",
        "        )\n",
        "\n",
        "        cursor = connection.cursor()\n",
        "\n",
        "        with self.input().open('r') as f:\n",
        "            cursor.copy_from(f, 'customer_ltv_data', sep=',')\n",
        "\n",
        "        connection.commit()\n",
        "\n",
        "    def output(self):\n",
        "        return luigi.LocalTarget('customer_ltv_data_loaded.txt')\n",
        "\n",
        "if __name__ == '__main__':\n",
        "    host = input(\"Enter Postgres host: \")\n",
        "    database = input(\"Enter Postgres database: \")\n",
        "    user = input(\"Enter Postgres user: \")\n",
        "    password = input(\"Enter Postgres password: \")\n",
        "\n",
        "    luigi.build([ExportToPostgres(host=host, database=database, user=user, password=password)], force=True)"
      ],
      "metadata": {
        "id": "9ohAWy_ggDuq"
      },
      "execution_count": null,
      "outputs": []
    }
  ]
}